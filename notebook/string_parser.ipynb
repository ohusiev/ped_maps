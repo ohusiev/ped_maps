{
 "cells": [
  {
   "cell_type": "code",
   "execution_count": 1,
   "id": "148adc2b",
   "metadata": {},
   "outputs": [],
   "source": [
    "import pandas as pd"
   ]
  },
  {
   "cell_type": "code",
   "execution_count": null,
   "id": "01592269",
   "metadata": {},
   "outputs": [],
   "source": [
    "#pip install geopy"
   ]
  },
  {
   "cell_type": "markdown",
   "id": "d5e7ca6a",
   "metadata": {},
   "source": [
    "### Simple parsing of html piece of code to collect a name of cities and number of projects"
   ]
  },
  {
   "cell_type": "code",
   "execution_count": null,
   "id": "85f07d8c",
   "metadata": {},
   "outputs": [],
   "source": [
    "'''\n",
    "#Simple parser to \n",
    "dict={}\n",
    "with open('../data/text.txt', encoding=\"utf-8\") as file:\n",
    "    for line in file:\n",
    "        subline= line.split('<', 2)\n",
    "        number= subline[0].replace(' ','') #delete all whitespaces\n",
    "        number=[char for char in number]#take only number\n",
    "        number=int(number[1])\n",
    "        city=subline[2].split('>',1)\n",
    "        city=city[1].rstrip('\\n')\n",
    "        if city not in dict.keys(): \n",
    "            city=city[1:]#remove whitespace\n",
    "            dict[city]=number\n",
    "        else:\n",
    "            print('error!')\n",
    "'''"
   ]
  },
  {
   "cell_type": "code",
   "execution_count": null,
   "id": "7c788d1d",
   "metadata": {},
   "outputs": [],
   "source": [
    "''' \n",
    "df=pd.DataFrame(dict.items())\n",
    "df=df.rename(columns={0:'city',1:'proj_number'})\n",
    "'''"
   ]
  },
  {
   "cell_type": "markdown",
   "id": "551bdf7c",
   "metadata": {},
   "source": [
    "### Assing geodata (Country, lat and lon knowing the name of the city)"
   ]
  },
  {
   "cell_type": "code",
   "execution_count": 2,
   "id": "c2b06a27",
   "metadata": {},
   "outputs": [
    {
     "data": {
      "text/html": [
       "<div>\n",
       "<style scoped>\n",
       "    .dataframe tbody tr th:only-of-type {\n",
       "        vertical-align: middle;\n",
       "    }\n",
       "\n",
       "    .dataframe tbody tr th {\n",
       "        vertical-align: top;\n",
       "    }\n",
       "\n",
       "    .dataframe thead th {\n",
       "        text-align: right;\n",
       "    }\n",
       "</style>\n",
       "<table border=\"1\" class=\"dataframe\">\n",
       "  <thead>\n",
       "    <tr style=\"text-align: right;\">\n",
       "      <th></th>\n",
       "      <th>city</th>\n",
       "      <th>proj_number</th>\n",
       "      <th>country</th>\n",
       "    </tr>\n",
       "  </thead>\n",
       "  <tbody>\n",
       "    <tr>\n",
       "      <th>0</th>\n",
       "      <td>Aachen</td>\n",
       "      <td>1</td>\n",
       "      <td>Germany</td>\n",
       "    </tr>\n",
       "    <tr>\n",
       "      <th>1</th>\n",
       "      <td>Aarhus</td>\n",
       "      <td>1</td>\n",
       "      <td>Denmark</td>\n",
       "    </tr>\n",
       "    <tr>\n",
       "      <th>2</th>\n",
       "      <td>Ajaccio</td>\n",
       "      <td>1</td>\n",
       "      <td>France</td>\n",
       "    </tr>\n",
       "    <tr>\n",
       "      <th>3</th>\n",
       "      <td>Alessandria</td>\n",
       "      <td>1</td>\n",
       "      <td>Italy</td>\n",
       "    </tr>\n",
       "    <tr>\n",
       "      <th>4</th>\n",
       "      <td>Alingsås</td>\n",
       "      <td>1</td>\n",
       "      <td>Sweden</td>\n",
       "    </tr>\n",
       "    <tr>\n",
       "      <th>...</th>\n",
       "      <td>...</td>\n",
       "      <td>...</td>\n",
       "      <td>...</td>\n",
       "    </tr>\n",
       "    <tr>\n",
       "      <th>155</th>\n",
       "      <td>Weilerbach</td>\n",
       "      <td>1</td>\n",
       "      <td>Germany</td>\n",
       "    </tr>\n",
       "    <tr>\n",
       "      <th>156</th>\n",
       "      <td>Weiz / Gleisdorf</td>\n",
       "      <td>1</td>\n",
       "      <td>Austria</td>\n",
       "    </tr>\n",
       "    <tr>\n",
       "      <th>157</th>\n",
       "      <td>Zagorje</td>\n",
       "      <td>1</td>\n",
       "      <td>Croatia</td>\n",
       "    </tr>\n",
       "    <tr>\n",
       "      <th>158</th>\n",
       "      <td>Zaragoza</td>\n",
       "      <td>2</td>\n",
       "      <td>Spain</td>\n",
       "    </tr>\n",
       "    <tr>\n",
       "      <th>159</th>\n",
       "      <td>Zlín</td>\n",
       "      <td>1</td>\n",
       "      <td>Czechia</td>\n",
       "    </tr>\n",
       "  </tbody>\n",
       "</table>\n",
       "<p>160 rows × 3 columns</p>\n",
       "</div>"
      ],
      "text/plain": [
       "                 city  proj_number  country\n",
       "0              Aachen            1  Germany\n",
       "1              Aarhus            1  Denmark\n",
       "2             Ajaccio            1   France\n",
       "3         Alessandria            1    Italy\n",
       "4            Alingsås            1   Sweden\n",
       "..                ...          ...      ...\n",
       "155        Weilerbach            1  Germany\n",
       "156  Weiz / Gleisdorf            1  Austria\n",
       "157           Zagorje            1  Croatia\n",
       "158          Zaragoza            2    Spain\n",
       "159              Zlín            1  Czechia\n",
       "\n",
       "[160 rows x 3 columns]"
      ]
     },
     "execution_count": 2,
     "metadata": {},
     "output_type": "execute_result"
    }
   ],
   "source": [
    "df=pd.read_csv('../data/cities_projects.csv',  encoding='utf-8', delimiter=';')\n",
    "df"
   ]
  },
  {
   "cell_type": "code",
   "execution_count": 3,
   "id": "e55a8021",
   "metadata": {},
   "outputs": [],
   "source": [
    "def geoloc (city, check):\n",
    "    if check=='location_info':\n",
    "        location= geolocator.geocode(city, addressdetails=True, language='en')\n",
    "        #location=str(location[0])\n",
    "    if check=='lon':\n",
    "        location=city.longitude\n",
    "    if check=='lat':\n",
    "        location=city.latitude\n",
    "    if check=='country':\n",
    "        string = str(city)\n",
    "        location = string.split(',')\n",
    "        location = location[-1]\n",
    "        #location=str(location[0])\n",
    "        location=location[1:]\n",
    "    return (location)"
   ]
  },
  {
   "cell_type": "code",
   "execution_count": 4,
   "id": "52e56d28",
   "metadata": {},
   "outputs": [],
   "source": [
    "from geopy.geocoders import Nominatim\n",
    "#geolocator = Nominatim(user_agent = \"geoapiExercises\")\n",
    "geolocator = Nominatim(user_agent=\"GetLoc\")"
   ]
  },
  {
   "cell_type": "code",
   "execution_count": 5,
   "id": "11a1e708",
   "metadata": {},
   "outputs": [],
   "source": [
    "df['location_info']=[geoloc(row, 'location_info') for index, row in df['city'].iteritems()]\n",
    "df['country1']=[geoloc(row, 'country') for index, row in df['location_info'].iteritems()]"
   ]
  },
  {
   "cell_type": "code",
   "execution_count": 6,
   "id": "9674e097",
   "metadata": {},
   "outputs": [],
   "source": [
    "df['latitude'] = [geoloc(row, 'lat') for index, row in df['location_info'].iteritems()]\n",
    "df['longitude'] = [geoloc(row, 'lon') for index, row in df['location_info'].iteritems()]"
   ]
  },
  {
   "cell_type": "code",
   "execution_count": 7,
   "id": "40cdae76",
   "metadata": {},
   "outputs": [
    {
     "data": {
      "text/html": [
       "<div>\n",
       "<style scoped>\n",
       "    .dataframe tbody tr th:only-of-type {\n",
       "        vertical-align: middle;\n",
       "    }\n",
       "\n",
       "    .dataframe tbody tr th {\n",
       "        vertical-align: top;\n",
       "    }\n",
       "\n",
       "    .dataframe thead th {\n",
       "        text-align: right;\n",
       "    }\n",
       "</style>\n",
       "<table border=\"1\" class=\"dataframe\">\n",
       "  <thead>\n",
       "    <tr style=\"text-align: right;\">\n",
       "      <th></th>\n",
       "      <th>city</th>\n",
       "      <th>proj_number</th>\n",
       "      <th>country</th>\n",
       "      <th>location_info</th>\n",
       "      <th>country1</th>\n",
       "      <th>latitude</th>\n",
       "      <th>longitude</th>\n",
       "    </tr>\n",
       "  </thead>\n",
       "  <tbody>\n",
       "    <tr>\n",
       "      <th>0</th>\n",
       "      <td>Aachen</td>\n",
       "      <td>1</td>\n",
       "      <td>Germany</td>\n",
       "      <td>(Aachen, Städteregion Aachen, North Rhine-West...</td>\n",
       "      <td>Germany</td>\n",
       "      <td>50.776351</td>\n",
       "      <td>6.083862</td>\n",
       "    </tr>\n",
       "    <tr>\n",
       "      <th>1</th>\n",
       "      <td>Aarhus</td>\n",
       "      <td>1</td>\n",
       "      <td>Denmark</td>\n",
       "      <td>(Aarhus, Aarhus Municipality, Central Denmark ...</td>\n",
       "      <td>Denmark</td>\n",
       "      <td>56.149628</td>\n",
       "      <td>10.213405</td>\n",
       "    </tr>\n",
       "  </tbody>\n",
       "</table>\n",
       "</div>"
      ],
      "text/plain": [
       "     city  proj_number  country  \\\n",
       "0  Aachen            1  Germany   \n",
       "1  Aarhus            1  Denmark   \n",
       "\n",
       "                                       location_info country1   latitude  \\\n",
       "0  (Aachen, Städteregion Aachen, North Rhine-West...  Germany  50.776351   \n",
       "1  (Aarhus, Aarhus Municipality, Central Denmark ...  Denmark  56.149628   \n",
       "\n",
       "   longitude  \n",
       "0   6.083862  \n",
       "1  10.213405  "
      ]
     },
     "execution_count": 7,
     "metadata": {},
     "output_type": "execute_result"
    }
   ],
   "source": [
    "df.head(2)"
   ]
  },
  {
   "cell_type": "code",
   "execution_count": 8,
   "id": "afb7e511",
   "metadata": {},
   "outputs": [],
   "source": [
    "df.to_csv('../data/cities_location.csv')"
   ]
  },
  {
   "cell_type": "markdown",
   "id": "be2b51d5",
   "metadata": {},
   "source": [
    "### BIN"
   ]
  },
  {
   "cell_type": "markdown",
   "id": "5d3dfba0",
   "metadata": {},
   "source": [
    "def geoloc (city, check):\n",
    "    if check is True:\n",
    "        location= geolocator.geocode(city, addressdetails=True, language='en')\n",
    "        #location=str(location[0])\n",
    "    if check is False:\n",
    "        string = str(city)\n",
    "        location = string.split(',')\n",
    "        location = location[-1]\n",
    "        #location=str(location[0])\n",
    "        location=location[1:]\n",
    "    return (location)\n",
    "#print(“Latitude : “,getLocation.latitude)\n",
    "#print(“Longitude : “,getLocation.longitude)"
   ]
  },
  {
   "cell_type": "markdown",
   "id": "48cf0502",
   "metadata": {},
   "source": [
    "df['location_info']=[geoloc(row, True) for index, row in df['city'].iteritems()]\n",
    "df['country1']=[geoloc(row, False) for index, row in df['location_info'].iteritems()]\n",
    "df['latitude'] =[getLocation.longitude for index, row in df['location_info'].iteritems()]\n",
    "df['latitude'] = df.location_info.apply(lambda x: x.raw['lat'])\n",
    "df['longitude'] = df.location_info.apply(lambda x: x.raw['lon'])"
   ]
  }
 ],
 "metadata": {
  "kernelspec": {
   "display_name": "Python 3",
   "language": "python",
   "name": "python3"
  },
  "language_info": {
   "codemirror_mode": {
    "name": "ipython",
    "version": 3
   },
   "file_extension": ".py",
   "mimetype": "text/x-python",
   "name": "python",
   "nbconvert_exporter": "python",
   "pygments_lexer": "ipython3",
   "version": "3.8.8"
  }
 },
 "nbformat": 4,
 "nbformat_minor": 5
}
