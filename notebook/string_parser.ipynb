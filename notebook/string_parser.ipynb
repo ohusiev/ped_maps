{
 "cells": [
  {
   "cell_type": "code",
   "execution_count": 2,
   "id": "e663f3c6",
   "metadata": {},
   "outputs": [],
   "source": [
    "dict={}\n",
    "with open('../data/text.txt', encoding=\"utf-8\") as file:\n",
    "    for line in file:\n",
    "        subline= line.split('<', 2)\n",
    "        number= subline[0].replace(' ','') #delete all whitespaces\n",
    "        number=[char for char in number]#take only number\n",
    "        number=int(number[1])\n",
    "        city=subline[2].split('>',1)\n",
    "        city=city[1].rstrip('\\n')\n",
    "        if city not in dict.keys(): \n",
    "            city=city[1:]#remove whitespace\n",
    "            dict[city]=number\n",
    "        else:\n",
    "            print('error!')"
   ]
  },
  {
   "cell_type": "code",
   "execution_count": 3,
   "id": "767219ab",
   "metadata": {},
   "outputs": [],
   "source": [
    "import pandas as pd\n",
    "df=pd.DataFrame(dict.items())\n",
    "df=df.rename(columns={0:'city',1:'proj_number'})\n"
   ]
  },
  {
   "cell_type": "code",
   "execution_count": 4,
   "id": "3cdb3638",
   "metadata": {},
   "outputs": [
    {
     "data": {
      "text/html": [
       "<div>\n",
       "<style scoped>\n",
       "    .dataframe tbody tr th:only-of-type {\n",
       "        vertical-align: middle;\n",
       "    }\n",
       "\n",
       "    .dataframe tbody tr th {\n",
       "        vertical-align: top;\n",
       "    }\n",
       "\n",
       "    .dataframe thead th {\n",
       "        text-align: right;\n",
       "    }\n",
       "</style>\n",
       "<table border=\"1\" class=\"dataframe\">\n",
       "  <thead>\n",
       "    <tr style=\"text-align: right;\">\n",
       "      <th></th>\n",
       "      <th>city</th>\n",
       "      <th>proj_number</th>\n",
       "    </tr>\n",
       "  </thead>\n",
       "  <tbody>\n",
       "    <tr>\n",
       "      <th>0</th>\n",
       "      <td>Aachen</td>\n",
       "      <td>1</td>\n",
       "    </tr>\n",
       "    <tr>\n",
       "      <th>1</th>\n",
       "      <td>Aarhus</td>\n",
       "      <td>1</td>\n",
       "    </tr>\n",
       "  </tbody>\n",
       "</table>\n",
       "</div>"
      ],
      "text/plain": [
       "     city  proj_number\n",
       "0  Aachen            1\n",
       "1  Aarhus            1"
      ]
     },
     "execution_count": 4,
     "metadata": {},
     "output_type": "execute_result"
    }
   ],
   "source": [
    "df.head(2)"
   ]
  },
  {
   "cell_type": "code",
   "execution_count": 5,
   "id": "3bc1259d",
   "metadata": {},
   "outputs": [],
   "source": [
    "def geoloc (city):\n",
    "    location= geolocator.geocode(city, language='en')\n",
    "    location=str(location[0])\n",
    "    location = location.split(',')\n",
    "    location = location[-1]\n",
    "    return (location[1:])"
   ]
  },
  {
   "cell_type": "code",
   "execution_count": 6,
   "id": "8c0a6178",
   "metadata": {},
   "outputs": [],
   "source": [
    "from geopy.geocoders import Nominatim\n",
    "geolocator = Nominatim(user_agent = \"geoapiExercises\")\n",
    "\n",
    "df['country']=[geoloc(row) for index, row in df['city'].iteritems()]"
   ]
  },
  {
   "cell_type": "code",
   "execution_count": 7,
   "id": "40cdae76",
   "metadata": {},
   "outputs": [
    {
     "data": {
      "text/html": [
       "<div>\n",
       "<style scoped>\n",
       "    .dataframe tbody tr th:only-of-type {\n",
       "        vertical-align: middle;\n",
       "    }\n",
       "\n",
       "    .dataframe tbody tr th {\n",
       "        vertical-align: top;\n",
       "    }\n",
       "\n",
       "    .dataframe thead th {\n",
       "        text-align: right;\n",
       "    }\n",
       "</style>\n",
       "<table border=\"1\" class=\"dataframe\">\n",
       "  <thead>\n",
       "    <tr style=\"text-align: right;\">\n",
       "      <th></th>\n",
       "      <th>city</th>\n",
       "      <th>proj_number</th>\n",
       "      <th>country</th>\n",
       "    </tr>\n",
       "  </thead>\n",
       "  <tbody>\n",
       "    <tr>\n",
       "      <th>0</th>\n",
       "      <td>Aachen</td>\n",
       "      <td>1</td>\n",
       "      <td>Germany</td>\n",
       "    </tr>\n",
       "    <tr>\n",
       "      <th>1</th>\n",
       "      <td>Aarhus</td>\n",
       "      <td>1</td>\n",
       "      <td>Denmark</td>\n",
       "    </tr>\n",
       "  </tbody>\n",
       "</table>\n",
       "</div>"
      ],
      "text/plain": [
       "     city  proj_number  country\n",
       "0  Aachen            1  Germany\n",
       "1  Aarhus            1  Denmark"
      ]
     },
     "execution_count": 7,
     "metadata": {},
     "output_type": "execute_result"
    }
   ],
   "source": [
    "df.head(2)"
   ]
  },
  {
   "cell_type": "code",
   "execution_count": 6,
   "id": "afb7e511",
   "metadata": {},
   "outputs": [],
   "source": [
    "df.to_csv('table.csv')"
   ]
  },
  {
   "cell_type": "code",
   "execution_count": null,
   "id": "a51dcced",
   "metadata": {},
   "outputs": [],
   "source": []
  }
 ],
 "metadata": {
  "kernelspec": {
   "display_name": "Python 3",
   "language": "python",
   "name": "python3"
  },
  "language_info": {
   "codemirror_mode": {
    "name": "ipython",
    "version": 3
   },
   "file_extension": ".py",
   "mimetype": "text/x-python",
   "name": "python",
   "nbconvert_exporter": "python",
   "pygments_lexer": "ipython3",
   "version": "3.8.8"
  }
 },
 "nbformat": 4,
 "nbformat_minor": 5
}
